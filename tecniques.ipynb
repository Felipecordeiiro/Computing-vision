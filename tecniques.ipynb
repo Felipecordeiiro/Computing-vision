{
 "cells": [
  {
   "cell_type": "code",
   "execution_count": 16,
   "metadata": {},
   "outputs": [],
   "source": [
    "import cv2 as cv\n",
    "\n",
    "path = 'C://Users/loqui/Desktop/Faculdade/BioData/Image processing//Dataset-ligamento-completo//Instaveis//0 I1000000-anapaulavianadir.tiff'\n",
    "img = cv.imread(path)\n",
    "cv.imshow('imagens', img)\n",
    "cv.waitKey(0)\n",
    "cv.destroyAllWindows()"
   ]
  },
  {
   "cell_type": "code",
   "execution_count": 15,
   "metadata": {},
   "outputs": [],
   "source": [
    "path = 'C://Users/loqui/Desktop/Faculdade/BioData/Image processing//Dataset-ligamento-completo//Estaveis//0 I1000000-anaclaudia.tiff'\n",
    "img = cv.imread(path)\n",
    "img = cv.resize(img, (500,500))\n",
    "cv.imshow('imagem_estavel', img)\n",
    "cv.waitKey(0)\n",
    "cv.destroyAllWindows()"
   ]
  }
 ],
 "metadata": {
  "kernelspec": {
   "display_name": "Python 3",
   "language": "python",
   "name": "python3"
  },
  "language_info": {
   "codemirror_mode": {
    "name": "ipython",
    "version": 3
   },
   "file_extension": ".py",
   "mimetype": "text/x-python",
   "name": "python",
   "nbconvert_exporter": "python",
   "pygments_lexer": "ipython3",
   "version": "3.11.2"
  },
  "orig_nbformat": 4
 },
 "nbformat": 4,
 "nbformat_minor": 2
}
